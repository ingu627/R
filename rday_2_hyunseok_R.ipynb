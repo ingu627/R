{
  "nbformat": 4,
  "nbformat_minor": 0,
  "metadata": {
    "colab": {
      "name": "rday_2_hyunseok.R",
      "provenance": [],
      "collapsed_sections": [],
      "authorship_tag": "ABX9TyP9CWZ0dT/9YevMFyLoIysi",
      "include_colab_link": true
    },
    "kernelspec": {
      "name": "ir",
      "display_name": "R"
    },
    "language_info": {
      "name": "R"
    },
    "accelerator": "GPU"
  },
  "cells": [
    {
      "cell_type": "markdown",
      "metadata": {
        "id": "view-in-github",
        "colab_type": "text"
      },
      "source": [
        "<a href=\"https://colab.research.google.com/github/ingu627/R_pr/blob/master/rday_2_hyunseok_R.ipynb\" target=\"_parent\"><img src=\"https://colab.research.google.com/assets/colab-badge.svg\" alt=\"Open In Colab\"/></a>"
      ]
    },
    {
      "cell_type": "code",
      "metadata": {
        "colab": {
          "base_uri": "https://localhost:8080/",
          "height": 68
        },
        "id": "BhHDIkmWTqKs",
        "outputId": "f2b9b7a7-fe3c-4c57-a3af-b7900982b3a0"
      },
      "source": [
        "# 1. 시험 점수 변수 만들고 출력하기\n",
        "# 다섯 명의 학생이 시험을 봤습니다. 학생 다섯 명의 시험 점수를 담고 있는 변수를 만들어 출력해 보세요. 각\n",
        "# 학생의 시험 점수는 다음과 같습니다.\n",
        "# 80, 60, 70, 50, 90\n",
        "score <- c(80, 60, 70, 50, 90)\n",
        "score\n",
        "\n",
        "\n",
        "# 2. 전체 평균 구하기\n",
        "# 앞 문제에서 만든 변수를 이용해서 이 학생들의 전체 평균 점수를 구해보세요.\n",
        "mean(score)\n",
        "\n",
        "\n",
        "# 3. 전체 평균 변수 만들고 출력하기\n",
        "# 전체 평균 점수를 담고 있는 새 변수를 만들어 출력해 보세요. 앞 문제를 풀 때 사용한 코드를 응용하면\n",
        "# 됩니다.\n",
        "score_mean <- mean(score)\n",
        "score_mean\n",
        "\n",
        "\n",
        "# 4. data.frame()과 c()를 조합해서 표의 내용을 데이터 프레임으로 만들어 출력해보세요.\n",
        "# 제품 가격 판매량\n",
        "# 사과 1800 24\n",
        "# 딸기 1500 38\n",
        "# 수박 3000 13\n",
        "data.frame()\n",
        "\n",
        "\n",
        "# 5. 앞에서 만든 데이터 프레임을 이용해서 과일 가격 평균, 판매량 평균을 구해보세요\n",
        "\n",
        "\n",
        "# 6. mpg 데이터의 변수명은 긴 단어를 짧게 줄인 축약어로 되어있습니다. \n",
        "# cty 변수는 도시 연비, hwy 변수는고속도로 연비를 의미합니다. \n",
        "# 변수명을 이해하기 쉬운 단어로 바꾸려고 합니다. \n",
        "# mpg 데이터를 이용해서 아래 문제를 해결해 보세요.\n",
        "# • Q1. ggplot2 패키지의 mpg 데이터를 사용할 수 있도록 불러온 뒤 복사본을 만드세요.\n",
        "# • Q2. 복사본 데이터를 이용해서 cty는 city로, hwy는 highway로 변수명을 수정하세요.\n",
        "# • Q3 자동차 배기량에 따라 고속도로 연비가 다른지 알아보자\n",
        "# - displ(배기량)이 4 이하인 자동차와 5 이상인 자동차 중 어떤 자동차의 hwy(연비)가 평균적으로 높은가?\n",
        "# • Q5. 자동차 제조 회사에 따라 도시 연비가 다른지 알아보자. \n",
        "# -\"audi\"와 \"toyota\" 중 어느 manufacturer의 cty가 평균적으로 높은지 알아 보자.\n",
        "# • Q6. 자동차 종류에 따라 도시 연비가 다른지 알아보자. \n",
        "# - class가 \"suv\"인 자동차와 \"compact\"인 자동차 중 어떤 자동차의 cty가 더 높은지 알아보자.\n",
        "\n",
        "# 7. read.csv(file=\"samsung.csv\"),     finance.yahoo.com 사이트에서 samsung 검색 ->  historical data 단추 -> 2021년 데이터 추출 및 저장(samsung.csv)\n",
        "# 1) Open, High, Low, Close, Adj.Close, Volume 열을 추출\n",
        "# 2) 각 열에 대해 최소값, 최대값, 평균, 표준편차 출력\n",
        "# 3) 각 열에 대해 정규화 / 표준화\n",
        "\n",
        "# 4) Low 열과 High 열 각각에 대해 최대 낙차 출력(교재, for문 while문) - 가능하면 하세요!\n",
        "# - High 열 최대낙차 =  Max(High(n-1)-High(n))       n은 특정일을 의미\n",
        "#                Low            High\n",
        "# 2021 1-3    30000\n",
        "#        1-4    32000\n",
        "# ...\n",
        "#        8-31"
      ],
      "execution_count": 9,
      "outputs": [
        {
          "output_type": "display_data",
          "data": {
            "text/plain": [
              "[1] 80 60 70 50 90"
            ],
            "text/latex": "\\begin{enumerate*}\n\\item 80\n\\item 60\n\\item 70\n\\item 50\n\\item 90\n\\end{enumerate*}\n",
            "text/markdown": "1. 80\n2. 60\n3. 70\n4. 50\n5. 90\n\n\n",
            "text/html": [
              "<style>\n",
              ".list-inline {list-style: none; margin:0; padding: 0}\n",
              ".list-inline>li {display: inline-block}\n",
              ".list-inline>li:not(:last-child)::after {content: \"\\00b7\"; padding: 0 .5ex}\n",
              "</style>\n",
              "<ol class=list-inline><li>80</li><li>60</li><li>70</li><li>50</li><li>90</li></ol>\n"
            ]
          },
          "metadata": {}
        },
        {
          "output_type": "display_data",
          "data": {
            "text/plain": [
              "[1] 70"
            ],
            "text/latex": "70",
            "text/markdown": "70",
            "text/html": [
              "70"
            ]
          },
          "metadata": {}
        },
        {
          "output_type": "display_data",
          "data": {
            "text/plain": [
              "[1] 70"
            ],
            "text/latex": "70",
            "text/markdown": "70",
            "text/html": [
              "70"
            ]
          },
          "metadata": {}
        }
      ]
    },
    {
      "cell_type": "code",
      "metadata": {
        "id": "XlbnqV8xUuDP"
      },
      "source": [
        ""
      ],
      "execution_count": null,
      "outputs": []
    }
  ]
}